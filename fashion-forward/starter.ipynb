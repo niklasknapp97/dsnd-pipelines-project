{
 "cells": [
  {
   "cell_type": "markdown",
   "metadata": {},
   "source": [
    "# Pipeline Project"
   ]
  },
  {
   "cell_type": "markdown",
   "metadata": {},
   "source": [
    "You will be using the provided data to create a machine learning model pipeline.\n",
    "\n",
    "You must handle the data appropriately in your pipeline to predict whether an\n",
    "item is recommended by a customer based on their review.\n",
    "Note the data includes numerical, categorical, and text data.\n",
    "\n",
    "You should ensure you properly train and evaluate your model."
   ]
  },
  {
   "cell_type": "markdown",
   "metadata": {},
   "source": [
    "## The Data"
   ]
  },
  {
   "cell_type": "markdown",
   "metadata": {},
   "source": [
    "The dataset has been anonymized and cleaned of missing values.\n",
    "\n",
    "There are 8 features for to use to predict whether a customer recommends or does\n",
    "not recommend a product.\n",
    "The `Recommended IND` column gives whether a customer recommends the product\n",
    "where `1` is recommended and a `0` is not recommended.\n",
    "This is your model's target/"
   ]
  },
  {
   "cell_type": "markdown",
   "metadata": {},
   "source": [
    "The features can be summarized as the following:\n",
    "\n",
    "- **Clothing ID**: Integer Categorical variable that refers to the specific piece being reviewed.\n",
    "- **Age**: Positive Integer variable of the reviewers age.\n",
    "- **Title**: String variable for the title of the review.\n",
    "- **Review Text**: String variable for the review body.\n",
    "- **Positive Feedback Count**: Positive Integer documenting the number of other customers who found this review positive.\n",
    "- **Division Name**: Categorical name of the product high level division.\n",
    "- **Department Name**: Categorical name of the product department name.\n",
    "- **Class Name**: Categorical name of the product class name.\n",
    "\n",
    "The target:\n",
    "- **Recommended IND**: Binary variable stating where the customer recommends the product where 1 is recommended, 0 is not recommended."
   ]
  },
  {
   "cell_type": "markdown",
   "metadata": {},
   "source": [
    "## Load Data"
   ]
  },
  {
   "cell_type": "code",
   "execution_count": 1,
   "metadata": {},
   "outputs": [
    {
     "name": "stdout",
     "output_type": "stream",
     "text": [
      "<class 'pandas.core.frame.DataFrame'>\n",
      "RangeIndex: 18442 entries, 0 to 18441\n",
      "Data columns (total 9 columns):\n",
      " #   Column                   Non-Null Count  Dtype \n",
      "---  ------                   --------------  ----- \n",
      " 0   Clothing ID              18442 non-null  int64 \n",
      " 1   Age                      18442 non-null  int64 \n",
      " 2   Title                    18442 non-null  object\n",
      " 3   Review Text              18442 non-null  object\n",
      " 4   Positive Feedback Count  18442 non-null  int64 \n",
      " 5   Division Name            18442 non-null  object\n",
      " 6   Department Name          18442 non-null  object\n",
      " 7   Class Name               18442 non-null  object\n",
      " 8   Recommended IND          18442 non-null  int64 \n",
      "dtypes: int64(4), object(5)\n",
      "memory usage: 1.3+ MB\n"
     ]
    },
    {
     "data": {
      "text/html": [
       "<div>\n",
       "<style scoped>\n",
       "    .dataframe tbody tr th:only-of-type {\n",
       "        vertical-align: middle;\n",
       "    }\n",
       "\n",
       "    .dataframe tbody tr th {\n",
       "        vertical-align: top;\n",
       "    }\n",
       "\n",
       "    .dataframe thead th {\n",
       "        text-align: right;\n",
       "    }\n",
       "</style>\n",
       "<table border=\"1\" class=\"dataframe\">\n",
       "  <thead>\n",
       "    <tr style=\"text-align: right;\">\n",
       "      <th></th>\n",
       "      <th>Clothing ID</th>\n",
       "      <th>Age</th>\n",
       "      <th>Title</th>\n",
       "      <th>Review Text</th>\n",
       "      <th>Positive Feedback Count</th>\n",
       "      <th>Division Name</th>\n",
       "      <th>Department Name</th>\n",
       "      <th>Class Name</th>\n",
       "      <th>Recommended IND</th>\n",
       "    </tr>\n",
       "  </thead>\n",
       "  <tbody>\n",
       "    <tr>\n",
       "      <th>0</th>\n",
       "      <td>1077</td>\n",
       "      <td>60</td>\n",
       "      <td>Some major design flaws</td>\n",
       "      <td>I had such high hopes for this dress and reall...</td>\n",
       "      <td>0</td>\n",
       "      <td>General</td>\n",
       "      <td>Dresses</td>\n",
       "      <td>Dresses</td>\n",
       "      <td>0</td>\n",
       "    </tr>\n",
       "    <tr>\n",
       "      <th>1</th>\n",
       "      <td>1049</td>\n",
       "      <td>50</td>\n",
       "      <td>My favorite buy!</td>\n",
       "      <td>I love, love, love this jumpsuit. it's fun, fl...</td>\n",
       "      <td>0</td>\n",
       "      <td>General Petite</td>\n",
       "      <td>Bottoms</td>\n",
       "      <td>Pants</td>\n",
       "      <td>1</td>\n",
       "    </tr>\n",
       "    <tr>\n",
       "      <th>2</th>\n",
       "      <td>847</td>\n",
       "      <td>47</td>\n",
       "      <td>Flattering shirt</td>\n",
       "      <td>This shirt is very flattering to all due to th...</td>\n",
       "      <td>6</td>\n",
       "      <td>General</td>\n",
       "      <td>Tops</td>\n",
       "      <td>Blouses</td>\n",
       "      <td>1</td>\n",
       "    </tr>\n",
       "    <tr>\n",
       "      <th>3</th>\n",
       "      <td>1080</td>\n",
       "      <td>49</td>\n",
       "      <td>Not for the very petite</td>\n",
       "      <td>I love tracy reese dresses, but this one is no...</td>\n",
       "      <td>4</td>\n",
       "      <td>General</td>\n",
       "      <td>Dresses</td>\n",
       "      <td>Dresses</td>\n",
       "      <td>0</td>\n",
       "    </tr>\n",
       "    <tr>\n",
       "      <th>4</th>\n",
       "      <td>858</td>\n",
       "      <td>39</td>\n",
       "      <td>Cagrcoal shimmer fun</td>\n",
       "      <td>I aded this in my basket at hte last mintue to...</td>\n",
       "      <td>1</td>\n",
       "      <td>General Petite</td>\n",
       "      <td>Tops</td>\n",
       "      <td>Knits</td>\n",
       "      <td>1</td>\n",
       "    </tr>\n",
       "  </tbody>\n",
       "</table>\n",
       "</div>"
      ],
      "text/plain": [
       "   Clothing ID  Age                    Title  \\\n",
       "0         1077   60  Some major design flaws   \n",
       "1         1049   50         My favorite buy!   \n",
       "2          847   47         Flattering shirt   \n",
       "3         1080   49  Not for the very petite   \n",
       "4          858   39     Cagrcoal shimmer fun   \n",
       "\n",
       "                                         Review Text  Positive Feedback Count  \\\n",
       "0  I had such high hopes for this dress and reall...                        0   \n",
       "1  I love, love, love this jumpsuit. it's fun, fl...                        0   \n",
       "2  This shirt is very flattering to all due to th...                        6   \n",
       "3  I love tracy reese dresses, but this one is no...                        4   \n",
       "4  I aded this in my basket at hte last mintue to...                        1   \n",
       "\n",
       "    Division Name Department Name Class Name  Recommended IND  \n",
       "0         General         Dresses    Dresses                0  \n",
       "1  General Petite         Bottoms      Pants                1  \n",
       "2         General            Tops    Blouses                1  \n",
       "3         General         Dresses    Dresses                0  \n",
       "4  General Petite            Tops      Knits                1  "
      ]
     },
     "execution_count": 1,
     "metadata": {},
     "output_type": "execute_result"
    }
   ],
   "source": [
    "import pandas as pd\n",
    "\n",
    "# Load data\n",
    "df = pd.read_csv(\n",
    "    'data/reviews.csv',\n",
    ")\n",
    "\n",
    "df.info()\n",
    "df.head()"
   ]
  },
  {
   "cell_type": "markdown",
   "metadata": {},
   "source": [
    "## Preparing features (`X`) & target (`y`)"
   ]
  },
  {
   "cell_type": "code",
   "execution_count": 2,
   "metadata": {},
   "outputs": [
    {
     "name": "stdout",
     "output_type": "stream",
     "text": [
      "Labels: [0 1]\n",
      "Features:\n"
     ]
    },
    {
     "data": {
      "text/html": [
       "<div>\n",
       "<style scoped>\n",
       "    .dataframe tbody tr th:only-of-type {\n",
       "        vertical-align: middle;\n",
       "    }\n",
       "\n",
       "    .dataframe tbody tr th {\n",
       "        vertical-align: top;\n",
       "    }\n",
       "\n",
       "    .dataframe thead th {\n",
       "        text-align: right;\n",
       "    }\n",
       "</style>\n",
       "<table border=\"1\" class=\"dataframe\">\n",
       "  <thead>\n",
       "    <tr style=\"text-align: right;\">\n",
       "      <th></th>\n",
       "      <th>Clothing ID</th>\n",
       "      <th>Age</th>\n",
       "      <th>Title</th>\n",
       "      <th>Review Text</th>\n",
       "      <th>Positive Feedback Count</th>\n",
       "      <th>Division Name</th>\n",
       "      <th>Department Name</th>\n",
       "      <th>Class Name</th>\n",
       "    </tr>\n",
       "  </thead>\n",
       "  <tbody>\n",
       "    <tr>\n",
       "      <th>0</th>\n",
       "      <td>1077</td>\n",
       "      <td>60</td>\n",
       "      <td>Some major design flaws</td>\n",
       "      <td>I had such high hopes for this dress and reall...</td>\n",
       "      <td>0</td>\n",
       "      <td>General</td>\n",
       "      <td>Dresses</td>\n",
       "      <td>Dresses</td>\n",
       "    </tr>\n",
       "    <tr>\n",
       "      <th>1</th>\n",
       "      <td>1049</td>\n",
       "      <td>50</td>\n",
       "      <td>My favorite buy!</td>\n",
       "      <td>I love, love, love this jumpsuit. it's fun, fl...</td>\n",
       "      <td>0</td>\n",
       "      <td>General Petite</td>\n",
       "      <td>Bottoms</td>\n",
       "      <td>Pants</td>\n",
       "    </tr>\n",
       "    <tr>\n",
       "      <th>2</th>\n",
       "      <td>847</td>\n",
       "      <td>47</td>\n",
       "      <td>Flattering shirt</td>\n",
       "      <td>This shirt is very flattering to all due to th...</td>\n",
       "      <td>6</td>\n",
       "      <td>General</td>\n",
       "      <td>Tops</td>\n",
       "      <td>Blouses</td>\n",
       "    </tr>\n",
       "    <tr>\n",
       "      <th>3</th>\n",
       "      <td>1080</td>\n",
       "      <td>49</td>\n",
       "      <td>Not for the very petite</td>\n",
       "      <td>I love tracy reese dresses, but this one is no...</td>\n",
       "      <td>4</td>\n",
       "      <td>General</td>\n",
       "      <td>Dresses</td>\n",
       "      <td>Dresses</td>\n",
       "    </tr>\n",
       "    <tr>\n",
       "      <th>4</th>\n",
       "      <td>858</td>\n",
       "      <td>39</td>\n",
       "      <td>Cagrcoal shimmer fun</td>\n",
       "      <td>I aded this in my basket at hte last mintue to...</td>\n",
       "      <td>1</td>\n",
       "      <td>General Petite</td>\n",
       "      <td>Tops</td>\n",
       "      <td>Knits</td>\n",
       "    </tr>\n",
       "  </tbody>\n",
       "</table>\n",
       "</div>"
      ],
      "text/plain": [
       "   Clothing ID  Age                    Title  \\\n",
       "0         1077   60  Some major design flaws   \n",
       "1         1049   50         My favorite buy!   \n",
       "2          847   47         Flattering shirt   \n",
       "3         1080   49  Not for the very petite   \n",
       "4          858   39     Cagrcoal shimmer fun   \n",
       "\n",
       "                                         Review Text  Positive Feedback Count  \\\n",
       "0  I had such high hopes for this dress and reall...                        0   \n",
       "1  I love, love, love this jumpsuit. it's fun, fl...                        0   \n",
       "2  This shirt is very flattering to all due to th...                        6   \n",
       "3  I love tracy reese dresses, but this one is no...                        4   \n",
       "4  I aded this in my basket at hte last mintue to...                        1   \n",
       "\n",
       "    Division Name Department Name Class Name  \n",
       "0         General         Dresses    Dresses  \n",
       "1  General Petite         Bottoms      Pants  \n",
       "2         General            Tops    Blouses  \n",
       "3         General         Dresses    Dresses  \n",
       "4  General Petite            Tops      Knits  "
      ]
     },
     "metadata": {},
     "output_type": "display_data"
    }
   ],
   "source": [
    "data = df\n",
    "\n",
    "# separate features from labels\n",
    "X = data.drop('Recommended IND', axis=1)\n",
    "y = data['Recommended IND'].copy()\n",
    "\n",
    "print('Labels:', y.unique())\n",
    "print('Features:')\n",
    "display(X.head())"
   ]
  },
  {
   "cell_type": "code",
   "execution_count": 3,
   "metadata": {},
   "outputs": [],
   "source": [
    "# Split data into train and test sets\n",
    "from sklearn.model_selection import train_test_split\n",
    "\n",
    "X_train, X_test, y_train, y_test = train_test_split(\n",
    "    X,\n",
    "    y,\n",
    "    test_size=0.1,\n",
    "    shuffle=True,\n",
    "    random_state=27,\n",
    ")"
   ]
  },
  {
   "cell_type": "markdown",
   "metadata": {},
   "source": [
    "# Your Work"
   ]
  },
  {
   "cell_type": "markdown",
   "metadata": {},
   "source": [
    "## Data Exploration"
   ]
  },
  {
   "cell_type": "markdown",
   "metadata": {},
   "source": [
    "### 1. Display Data Structure\n",
    "- `X.info()`:  \n",
    "  Shows the structure of the dataset, including the number of entries, column names, data types, and the number of non-null values for each column.\n",
    "\n",
    "### 2. Summary Statistics for Numerical Columns\n",
    "- `X.describe()`:  \n",
    "  Provides descriptive statistics (like mean, standard deviation, minimum, maximum, and quartiles) for all numerical features in the dataset."
   ]
  },
  {
   "cell_type": "code",
   "execution_count": 4,
   "metadata": {},
   "outputs": [
    {
     "name": "stdout",
     "output_type": "stream",
     "text": [
      "<class 'pandas.core.frame.DataFrame'>\n",
      "RangeIndex: 18442 entries, 0 to 18441\n",
      "Data columns (total 8 columns):\n",
      " #   Column                   Non-Null Count  Dtype \n",
      "---  ------                   --------------  ----- \n",
      " 0   Clothing ID              18442 non-null  int64 \n",
      " 1   Age                      18442 non-null  int64 \n",
      " 2   Title                    18442 non-null  object\n",
      " 3   Review Text              18442 non-null  object\n",
      " 4   Positive Feedback Count  18442 non-null  int64 \n",
      " 5   Division Name            18442 non-null  object\n",
      " 6   Department Name          18442 non-null  object\n",
      " 7   Class Name               18442 non-null  object\n",
      "dtypes: int64(3), object(5)\n",
      "memory usage: 1.1+ MB\n"
     ]
    },
    {
     "data": {
      "text/html": [
       "<div>\n",
       "<style scoped>\n",
       "    .dataframe tbody tr th:only-of-type {\n",
       "        vertical-align: middle;\n",
       "    }\n",
       "\n",
       "    .dataframe tbody tr th {\n",
       "        vertical-align: top;\n",
       "    }\n",
       "\n",
       "    .dataframe thead th {\n",
       "        text-align: right;\n",
       "    }\n",
       "</style>\n",
       "<table border=\"1\" class=\"dataframe\">\n",
       "  <thead>\n",
       "    <tr style=\"text-align: right;\">\n",
       "      <th></th>\n",
       "      <th>Clothing ID</th>\n",
       "      <th>Age</th>\n",
       "      <th>Positive Feedback Count</th>\n",
       "    </tr>\n",
       "  </thead>\n",
       "  <tbody>\n",
       "    <tr>\n",
       "      <th>count</th>\n",
       "      <td>18442.000000</td>\n",
       "      <td>18442.000000</td>\n",
       "      <td>18442.000000</td>\n",
       "    </tr>\n",
       "    <tr>\n",
       "      <th>mean</th>\n",
       "      <td>954.896757</td>\n",
       "      <td>43.383635</td>\n",
       "      <td>2.697484</td>\n",
       "    </tr>\n",
       "    <tr>\n",
       "      <th>std</th>\n",
       "      <td>141.571783</td>\n",
       "      <td>12.246264</td>\n",
       "      <td>5.942220</td>\n",
       "    </tr>\n",
       "    <tr>\n",
       "      <th>min</th>\n",
       "      <td>2.000000</td>\n",
       "      <td>18.000000</td>\n",
       "      <td>0.000000</td>\n",
       "    </tr>\n",
       "    <tr>\n",
       "      <th>25%</th>\n",
       "      <td>863.000000</td>\n",
       "      <td>34.000000</td>\n",
       "      <td>0.000000</td>\n",
       "    </tr>\n",
       "    <tr>\n",
       "      <th>50%</th>\n",
       "      <td>952.000000</td>\n",
       "      <td>41.000000</td>\n",
       "      <td>1.000000</td>\n",
       "    </tr>\n",
       "    <tr>\n",
       "      <th>75%</th>\n",
       "      <td>1078.000000</td>\n",
       "      <td>52.000000</td>\n",
       "      <td>3.000000</td>\n",
       "    </tr>\n",
       "    <tr>\n",
       "      <th>max</th>\n",
       "      <td>1205.000000</td>\n",
       "      <td>99.000000</td>\n",
       "      <td>122.000000</td>\n",
       "    </tr>\n",
       "  </tbody>\n",
       "</table>\n",
       "</div>"
      ],
      "text/plain": [
       "        Clothing ID           Age  Positive Feedback Count\n",
       "count  18442.000000  18442.000000             18442.000000\n",
       "mean     954.896757     43.383635                 2.697484\n",
       "std      141.571783     12.246264                 5.942220\n",
       "min        2.000000     18.000000                 0.000000\n",
       "25%      863.000000     34.000000                 0.000000\n",
       "50%      952.000000     41.000000                 1.000000\n",
       "75%     1078.000000     52.000000                 3.000000\n",
       "max     1205.000000     99.000000               122.000000"
      ]
     },
     "execution_count": 4,
     "metadata": {},
     "output_type": "execute_result"
    }
   ],
   "source": [
    "# Data structure\n",
    "X.info()\n",
    "\n",
    "# Numerical columns\n",
    "X.describe()"
   ]
  },
  {
   "cell_type": "markdown",
   "metadata": {},
   "source": [
    "### Checking for Missing Values\n",
    "\n",
    "- Check for missing values in each column:\n",
    "  - `X.isnull().sum()`: Calculates the total number of missing (null) entries per column.\n",
    "- Filter and display only the columns that have missing values:\n",
    "  - Columns with at least one missing value are selected and printed."
   ]
  },
  {
   "cell_type": "code",
   "execution_count": 5,
   "metadata": {},
   "outputs": [
    {
     "name": "stdout",
     "output_type": "stream",
     "text": [
      "Series([], dtype: int64)\n"
     ]
    }
   ],
   "source": [
    "# Missing values per column\n",
    "missing_values = X.isnull().sum()\n",
    "missing_values = missing_values[missing_values > 0]\n",
    "print(missing_values)"
   ]
  },
  {
   "cell_type": "markdown",
   "metadata": {},
   "source": [
    "**There are no missing values in the data**"
   ]
  },
  {
   "cell_type": "markdown",
   "metadata": {},
   "source": [
    "### Analyzing Review Text Length\n",
    "\n",
    "- Create a new feature `review_length`:\n",
    "  - Calculate the number of words in each review by splitting the review text and counting the words.\n",
    "- Display statistical summaries of the `review_length` feature:\n",
    "  - Use `.describe()` to show metrics like mean, min, max, and percentiles.\n",
    "- Visualize the distribution of review lengths:\n",
    "  - A histogram with a kernel density estimate (KDE) is plotted using Seaborn.\n",
    "  - The x-axis shows the number of words in a review, and the y-axis shows the number of reviews.\n",
    "  - This helps to understand how review lengths are distributed across the dataset."
   ]
  },
  {
   "cell_type": "code",
   "execution_count": 6,
   "metadata": {},
   "outputs": [
    {
     "name": "stdout",
     "output_type": "stream",
     "text": [
      "count    18442.000000\n",
      "mean        62.449355\n",
      "std         28.138528\n",
      "min          2.000000\n",
      "25%         39.000000\n",
      "50%         62.000000\n",
      "75%         90.000000\n",
      "max        115.000000\n",
      "Name: review_length, dtype: float64\n"
     ]
    },
    {
     "data": {
      "image/png": "[encoded data removed]",
      "text/plain": [
       "<Figure size 1000x500 with 1 Axes>"
      ]
     },
     "metadata": {},
     "output_type": "display_data"
    }
   ],
   "source": [
    "# Length of review texts\n",
    "X[\"review_length\"] = X[\"Review Text\"].astype(str).apply(lambda x: len(x.split()))\n",
    "\n",
    "# Statistical values\n",
    "print(X[\"review_length\"].describe())\n",
    "\n",
    "# Plot\n",
    "import matplotlib.pyplot as plt\n",
    "import seaborn as sns\n",
    "\n",
    "plt.figure(figsize=(10,5))\n",
    "sns.histplot(X[\"review_length\"], bins=50, kde=True)\n",
    "plt.xlabel(\"Number of words\")\n",
    "plt.ylabel(\"Number of reviews\")\n",
    "plt.title(\"Distribution of review lengths\")\n",
    "plt.show()"
   ]
  },
  {
   "cell_type": "markdown",
   "metadata": {},
   "source": [
    "#### Results\n",
    "\n",
    "The histogram shows the distribution of review lengths based on the number of words in each review.\n",
    "\n",
    "- The **x-axis** represents the number of words per review.\n",
    "- The **y-axis** shows the number of reviews falling into each word count range.\n",
    "- Most reviews fall between **20 and 100 words**, with a noticeable peak around **100 words**.\n",
    "- The smooth blue curve represents a **kernel density estimate (KDE)**, giving an idea of the overall shape of the distribution.\n",
    "\n",
    "This plot helps us understand the typical length of reviews and may inform preprocessing decisions, such as truncation or padding for text models."
   ]
  },
  {
   "cell_type": "markdown",
   "metadata": {},
   "source": [
    "### Label Distribution Visualization\n",
    "\n",
    "This code creates a bar chart to visualize the distribution of the target labels.\n",
    "\n",
    "- **`sns.countplot(x=y)`**: Creates a count plot showing how many samples belong to each class (0 = not recommended, 1 = recommended).\n",
    "- **`plt.xlabel()` / `plt.ylabel()`**: Label the axes for better readability.\n",
    "- **`plt.title()`**: Adds a descriptive title to the plot.\n",
    "\n",
    "The resulting plot helps to identify if the dataset is **imbalanced**, which can influence model performance and guide the choice of evaluation metrics or sampling strategies."
   ]
  },
  {
   "cell_type": "code",
   "execution_count": 7,
   "metadata": {},
   "outputs": [
    {
     "data": {
      "image/png": "[encoded data removed]",
      "text/plain": [
       "<Figure size 500x400 with 1 Axes>"
      ]
     },
     "metadata": {},
     "output_type": "display_data"
    }
   ],
   "source": [
    "import seaborn as sns\n",
    "\n",
    "plt.figure(figsize=(5,4))\n",
    "sns.countplot(x=y)\n",
    "plt.xlabel(\"Not recommended (0) vs. recommended (1)\")\n",
    "plt.ylabel(\"Number of labels\")\n",
    "plt.title(\"Distribution of labels\")\n",
    "plt.show()"
   ]
  },
  {
   "cell_type": "markdown",
   "metadata": {},
   "source": [
    "#### Results\n",
    "\n",
    "The bar chart shows the distribution of the review labels in the dataset:\n",
    "\n",
    "- **Label 0**: Reviews where the product was **not recommended**.\n",
    "- **Label 1**: Reviews where the product was **recommended**.\n",
    "\n",
    "From the chart, we can observe that:\n",
    "\n",
    "- The majority of reviews recommend the product (Label 1).\n",
    "- There is a significant **class imbalance**, with far fewer reviews labeled as not recommended (Label 0).\n",
    "\n",
    "This imbalance should be considered when training models, as it might bias predictions toward the majority class."
   ]
  },
  {
   "cell_type": "markdown",
   "metadata": {},
   "source": [
    "### Top 20 Most Common Words in Reviews\n",
    "\n",
    "This code analyzes the most frequent words used in the review texts:\n",
    "\n",
    "- **Text Processing**:\n",
    "  - All review texts are concatenated into a single string and converted to lowercase.\n",
    "  - Using regular expressions, only words with **at least 3 letters** are extracted to remove very short and less meaningful tokens.\n",
    "\n",
    "- **Word Frequency**:\n",
    "  - The `Counter` class is used to count how often each word appears.\n",
    "  - The top 20 most common words are selected.\n",
    "\n",
    "- **Visualization**:\n",
    "  - A bar plot displays the 20 most frequent words along with their frequency counts.\n",
    "  - The x-axis shows the words, and the y-axis shows how often they occur in the dataset.\n",
    "\n",
    "This analysis helps identify common themes or repetitive vocabulary in the reviews.\n"
   ]
  },
  {
   "cell_type": "code",
   "execution_count": 8,
   "metadata": {},
   "outputs": [
    {
     "data": {
      "image/png": "[encoded data removed]",
      "text/plain": [
       "<Figure size 1000x500 with 1 Axes>"
      ]
     },
     "metadata": {},
     "output_type": "display_data"
    }
   ],
   "source": [
    "from collections import Counter\n",
    "import re\n",
    "\n",
    "# List of words\n",
    "words = \" \".join(X[\"Review Text\"].dropna()).lower()\n",
    "words = re.findall(r'\\b[a-zA-Z]{3,}\\b', words)  # only words with at least 3 letters\n",
    "\n",
    "# Most common words\n",
    "word_freq = Counter(words).most_common(20)\n",
    "\n",
    "# Plot\n",
    "plt.figure(figsize=(10,5))\n",
    "sns.barplot(x=[w[0] for w in word_freq], y=[w[1] for w in word_freq])\n",
    "plt.xticks(rotation=45)\n",
    "plt.xlabel(\"words\")\n",
    "plt.ylabel(\"frequency\")\n",
    "plt.title(\"Top 20 most common words\")\n",
    "plt.show()"
   ]
  },
  {
   "cell_type": "markdown",
   "metadata": {},
   "source": [
    "## Building Pipeline"
   ]
  },
  {
   "cell_type": "code",
   "execution_count": 9,
   "metadata": {},
   "outputs": [
    {
     "name": "stdout",
     "output_type": "stream",
     "text": [
      "Shape nach Transformation: (16597, 5024)\n"
     ]
    }
   ],
   "source": [
    "from sklearn.pipeline import Pipeline\n",
    "from sklearn.compose import ColumnTransformer\n",
    "from sklearn.preprocessing import OneHotEncoder, StandardScaler\n",
    "from sklearn.feature_extraction.text import TfidfVectorizer\n",
    "\n",
    "# Numerische und kategoriale Features definieren\n",
    "num_features = [\"Age\", \"Positive Feedback Count\"]\n",
    "cat_features = [\"Division Name\", \"Department Name\", \"Class Name\"]\n",
    "text_features = [\"Review Text\"]\n",
    "\n",
    "# Preprocessing-Pipeline definieren\n",
    "preprocessor = ColumnTransformer(\n",
    "    transformers=[\n",
    "        (\"num\", StandardScaler(), num_features),  # Skalierung numerischer Werte\n",
    "        (\"cat\", OneHotEncoder(handle_unknown=\"ignore\"), cat_features),  # One-Hot-Encoding für Kategorien\n",
    "        (\"text\", TfidfVectorizer(stop_words=\"english\", max_features=5000), \"Review Text\"),  # Text-Vektorisierung\n",
    "    ]\n",
    ")\n",
    "\n",
    "# Gesamt-Pipeline erstellen (nur für Preprocessing)\n",
    "pipeline = Pipeline([\n",
    "    (\"preprocessor\", preprocessor)\n",
    "])\n",
    "\n",
    "# Pipeline auf Trainingsdaten anwenden\n",
    "X_train_transformed = pipeline.fit_transform(X_train)\n",
    "X_test_transformed = pipeline.transform(X_test)\n",
    "\n",
    "print(\"Shape nach Transformation:\", X_train_transformed.shape)"
   ]
  },
  {
   "cell_type": "markdown",
   "metadata": {},
   "source": [
    "## Training Pipeline"
   ]
  },
  {
   "cell_type": "code",
   "execution_count": 10,
   "metadata": {},
   "outputs": [
    {
     "name": "stdout",
     "output_type": "stream",
     "text": [
      "Accuracy: 0.8802\n",
      "Classification Report:\n",
      "              precision    recall  f1-score   support\n",
      "\n",
      "           0       0.74      0.50      0.60       327\n",
      "           1       0.90      0.96      0.93      1518\n",
      "\n",
      "    accuracy                           0.88      1845\n",
      "   macro avg       0.82      0.73      0.76      1845\n",
      "weighted avg       0.87      0.88      0.87      1845\n",
      "\n"
     ]
    }
   ],
   "source": [
    "from sklearn.linear_model import LogisticRegression\n",
    "from sklearn.metrics import accuracy_score, classification_report\n",
    "\n",
    "# Initialize model\n",
    "model = LogisticRegression(max_iter=1000, random_state=27)\n",
    "\n",
    "# Train model\n",
    "model.fit(X_train_transformed, y_train)\n",
    "\n",
    "# Predict\n",
    "y_pred = model.predict(X_test_transformed)\n",
    "\n",
    "# Evaluate model\n",
    "accuracy = accuracy_score(y_test, y_pred)\n",
    "print(f'Accuracy: {accuracy:.4f}')\n",
    "print('Classification Report:')\n",
    "print(classification_report(y_test, y_pred))"
   ]
  },
  {
   "cell_type": "markdown",
   "metadata": {},
   "source": [
    "### Result\n",
    "\n",
    "**Overall Accuracy: 88.02%**\n",
    "\n",
    "- The model correctly classifies 88.02% of the reviews in the test set.\n",
    "\n",
    "**Class-wise Performance:**\n",
    "\n",
    "- Class 0 (Not Recommended)\n",
    "\n",
    "  - Precision: 0.74 → When the model predicts \"Not Recommended,\" it's correct 74% of the time.\n",
    "\n",
    "  - Recall: 0.50 → The model correctly identifies only 50% of actual \"Not Recommended\" reviews.\n",
    "\n",
    "  - F1-score: 0.60 → A balance between precision and recall, showing that the model struggles with this class.\n",
    "\n",
    "- Class 1 (Recommended)\n",
    "\n",
    "  - Precision: 0.90 → When the model predicts \"Recommended,\" it's correct 90% of the time.\n",
    "\n",
    "  - Recall: 0.96 → The model captures 96% of all actual \"Recommended\" reviews.\n",
    "\n",
    "  - F1-score: 0.93 → Strong overall performance in this class.\n",
    "\n",
    "- Macro & Weighted Averages:\n",
    "\n",
    "  - Macro Avg (0.82 precision, 0.73 recall, 0.76 F1-score)\n",
    "\n",
    "    - This gives an unweighted average across both classes, showing that Class 0 drags down overall performance.\n",
    "\n",
    "  - Weighted Avg (0.87 precision, 0.88 recall, 0.87 F1-score)\n",
    "\n",
    "    - This accounts for class imbalance and aligns with the overall accuracy.\n",
    "\n",
    "### Interpretation\n",
    "\n",
    "The model performs well overall, especially for Recommended (Class 1).\n",
    "\n",
    "It struggles with Not Recommended (Class 0), where recall is low (50%), meaning it misses a significant portion of negative reviews.\n",
    "\n",
    "Since Class 1 dominates the dataset (1518 vs. 327 samples), the imbalance might be affecting Class 0's performance.\n",
    "\n",
    "If misclassifying negative reviews is a concern, balancing the dataset or adjusting classification thresholds could improve recall for Class 0."
   ]
  },
  {
   "cell_type": "markdown",
   "metadata": {},
   "source": [
    "## Fine-Tuning Pipeline"
   ]
  },
  {
   "cell_type": "markdown",
   "metadata": {},
   "source": [
    "### Model Comparison with Gradient Boosting\n",
    "\n",
    "In this section, we compare multiple classification models to determine the best performing one on the dataset.\n",
    "\n",
    "#### Overview of the Code:\n",
    "\n",
    "1. **Model Selection:**\n",
    "   - We define a dictionary `models` containing different classification models:\n",
    "     - **Gradient Boosting:** `GradientBoostingClassifier`\n",
    "     - **Random Forest:** `RandomForestClassifier`\n",
    "     - **Support Vector Machine (SVM):** `SVC`\n",
    "     - **K-Nearest Neighbors (KNN):** `KNeighborsClassifier`\n",
    "\n",
    "2. **Model Training and Evaluation:**\n",
    "   - For each model in the dictionary:\n",
    "     1. The model is trained on the training data (`X_train`, `y_train`).\n",
    "     2. Predictions are made on the test data (`X_test`).\n",
    "     3. We calculate the **accuracy** and the **classification report** (including precision, recall, and F1-score) for each model's predictions.\n",
    "   \n",
    "3. **Storing and Displaying Results:**\n",
    "   - The accuracy and classification report for each model are stored in a dictionary called `results`.\n",
    "   - The results are printed for each model, displaying the accuracy and detailed classification performance metrics.\n",
    "\n",
    "#### Purpose:\n",
    "- This process helps to compare how well different models perform on the same dataset.\n",
    "- By evaluating metrics like accuracy, precision, recall, and F1-score, we can determine which model is most suitable for the task at hand."
   ]
  },
  {
   "cell_type": "code",
   "execution_count": 11,
   "metadata": {},
   "outputs": [
    {
     "name": "stdout",
     "output_type": "stream",
     "text": [
      "Model: Gradient Boosting\n",
      "Accuracy: 0.8504065040650407\n",
      "Classification Report:\n",
      "              precision    recall  f1-score   support\n",
      "\n",
      "           0       0.69      0.28      0.40       327\n",
      "           1       0.86      0.97      0.91      1518\n",
      "\n",
      "    accuracy                           0.85      1845\n",
      "   macro avg       0.78      0.63      0.66      1845\n",
      "weighted avg       0.83      0.85      0.82      1845\n",
      "\n",
      "--------------------------------------------------\n",
      "Model: Random Forest\n",
      "Accuracy: 0.851490514905149\n",
      "Classification Report:\n",
      "              precision    recall  f1-score   support\n",
      "\n",
      "           0       0.73      0.25      0.38       327\n",
      "           1       0.86      0.98      0.92      1518\n",
      "\n",
      "    accuracy                           0.85      1845\n",
      "   macro avg       0.80      0.62      0.65      1845\n",
      "weighted avg       0.84      0.85      0.82      1845\n",
      "\n",
      "--------------------------------------------------\n",
      "Model: SVM\n",
      "Accuracy: 0.851490514905149\n",
      "Classification Report:\n",
      "              precision    recall  f1-score   support\n",
      "\n",
      "           0       0.77      0.23      0.35       327\n",
      "           1       0.86      0.99      0.92      1518\n",
      "\n",
      "    accuracy                           0.85      1845\n",
      "   macro avg       0.81      0.61      0.63      1845\n",
      "weighted avg       0.84      0.85      0.82      1845\n",
      "\n",
      "--------------------------------------------------\n",
      "Model: KNN\n",
      "Accuracy: 0.8092140921409214\n",
      "Classification Report:\n",
      "              precision    recall  f1-score   support\n",
      "\n",
      "           0       0.38      0.13      0.19       327\n",
      "           1       0.84      0.96      0.89      1518\n",
      "\n",
      "    accuracy                           0.81      1845\n",
      "   macro avg       0.61      0.54      0.54      1845\n",
      "weighted avg       0.76      0.81      0.77      1845\n",
      "\n",
      "--------------------------------------------------\n"
     ]
    }
   ],
   "source": [
    "from sklearn.ensemble import GradientBoostingClassifier\n",
    "from sklearn.ensemble import RandomForestClassifier\n",
    "from sklearn.svm import SVC\n",
    "from sklearn.neighbors import KNeighborsClassifier\n",
    "from sklearn.metrics import classification_report, accuracy_score\n",
    "\n",
    "# Liste der Modelle\n",
    "models = {\n",
    "    'Gradient Boosting': GradientBoostingClassifier(random_state=42),\n",
    "    'Random Forest': RandomForestClassifier(random_state=42),\n",
    "    'SVM': SVC(random_state=42),\n",
    "    'KNN': KNeighborsClassifier()\n",
    "}\n",
    "\n",
    "# Training und Evaluation der Modelle\n",
    "results = {}\n",
    "for model_name, model in models.items():\n",
    "    # Trainiere das Modell\n",
    "    model.fit(X_train_transformed, y_train)\n",
    "    \n",
    "    # Vorhersage auf dem Testset\n",
    "    y_pred = model.predict(X_test_transformed)\n",
    "    \n",
    "    # Berechne Accuracy und Classification Report\n",
    "    accuracy = accuracy_score(y_test, y_pred)\n",
    "    class_report = classification_report(y_test, y_pred)\n",
    "    \n",
    "    # Speichere die Ergebnisse\n",
    "    results[model_name] = {'Accuracy': accuracy, 'Classification Report': class_report}\n",
    "\n",
    "# Ausgabe der Ergebnisse\n",
    "for model_name, result in results.items():\n",
    "    print(f\"Model: {model_name}\")\n",
    "    print(f\"Accuracy: {result['Accuracy']}\")\n",
    "    print(f\"Classification Report:\\n{result['Classification Report']}\")\n",
    "    print('-' * 50)"
   ]
  },
  {
   "cell_type": "markdown",
   "metadata": {},
   "source": [
    "### Model Comparison Results\n",
    "\n",
    "In this section, we compare the performance of four different classification models on the dataset. The models evaluated are **Gradient Boosting**, **Random Forest**, **SVM**, and **K-Nearest Neighbors (KNN)**.\n",
    "\n",
    "#### Key Insights from the Results:\n",
    "\n",
    "1. **Gradient Boosting:**\n",
    "   - **Accuracy:** 85.04%\n",
    "   - **Precision (Class 1):** 86%\n",
    "   - **Recall (Class 1):** 97% (very high recall, meaning it identifies almost all positive cases)\n",
    "   - **F1-Score (Class 1):** 91%\n",
    "   - **Precision (Class 0):** 69% (lower precision for class 0, indicating some false positives)\n",
    "   - **Recall (Class 0):** 28% (low recall, meaning many false negatives for class 0)\n",
    "\n",
    "   **Conclusion:** Gradient Boosting performs very well for class 1 (high recall and F1-score), but struggles with class 0, having a low recall and precision. This might indicate an imbalance between the classes, with class 1 being the majority class.\n",
    "\n",
    "2. **Random Forest:**\n",
    "   - **Accuracy:** 85.15%\n",
    "   - **Precision (Class 1):** 86%\n",
    "   - **Recall (Class 1):** 98% (almost perfect recall for class 1)\n",
    "   - **F1-Score (Class 1):** 92%\n",
    "   - **Precision (Class 0):** 73% (better than Gradient Boosting for class 0)\n",
    "   - **Recall (Class 0):** 25% (still low recall for class 0)\n",
    "\n",
    "   **Conclusion:** Random Forest performs similarly to Gradient Boosting in terms of overall accuracy. It has a better precision for class 0 but still struggles with recall for class 0. It excels in class 1 detection with high recall and F1-score.\n",
    "\n",
    "3. **SVM:**\n",
    "   - **Accuracy:** 85.15%\n",
    "   - **Precision (Class 1):** 86%\n",
    "   - **Recall (Class 1):** 99% (almost perfect recall for class 1)\n",
    "   - **F1-Score (Class 1):** 92%\n",
    "   - **Precision (Class 0):** 77%\n",
    "   - **Recall (Class 0):** 23% (even lower recall for class 0 compared to Gradient Boosting and Random Forest)\n",
    "\n",
    "   **Conclusion:** SVM also performs well for class 1 with a very high recall but fails to detect class 0 cases, as evidenced by the very low recall for class 0. This indicates that SVM is heavily biased toward detecting class 1.\n",
    "\n",
    "4. **KNN:**\n",
    "   - **Accuracy:** 81.92%\n",
    "   - **Precision (Class 1):** 84%\n",
    "   - **Recall (Class 1):** 96%\n",
    "   - **F1-Score (Class 1):** 89%\n",
    "   - **Precision (Class 0):** 38% (very low precision for class 0)\n",
    "   - **Recall (Class 0):** 13% (extremely low recall for class 0)\n",
    "\n",
    "   **Conclusion:** KNN performs the worst in this comparison. While it does a good job of identifying class 1 cases, it has very poor precision and recall for class 0, making it unsuitable for balanced classification tasks.\n",
    "\n",
    "#### Summary:\n",
    "\n",
    "- **Best Models for Class 1:** All models (Gradient Boosting, Random Forest, SVM, KNN) show strong performance for detecting class 1, with very high recall and F1-score.\n",
    "- **Challenge with Class 0:** All models struggle with class 0, particularly with recall (the ability to identify all positive instances of class 0). Gradient Boosting and Random Forest perform slightly better for class 0, but improvements are needed to balance the performance across both classes.\n",
    "- **Recommendation:** Gradient Boosting and Random Forest seem to be the best-performing models in this scenario, with a good trade-off between performance for both classes."
   ]
  },
  {
   "cell_type": "markdown",
   "metadata": {},
   "source": [
    "### Hyperparameter Tuning with K-Fold Cross-Validation  \n",
    "\n",
    "#### Objective  \n",
    "In this step, we optimize the two best models (Gradient Boosting and Random Forest) using hyperparameter tuning and K-fold cross-validation.  \n",
    "\n",
    "#### Approach  \n",
    "1. **Define Hyperparameter Grids**  \n",
    "   - A set of possible hyperparameter values is defined for each model to be tested.  \n",
    "\n",
    "2. **K-Fold Cross-Validation with GridSearchCV**  \n",
    "   - `GridSearchCV` systematically searches for the best hyperparameter combinations.  \n",
    "   - Performance is evaluated across multiple folds of the training data to prevent overfitting.  \n",
    "\n",
    "3. **Model Training & Evaluation**  \n",
    "   - The best model from the grid search is evaluated on the test data.  \n",
    "   - Metrics such as accuracy, precision, recall, and F1-score are computed to assess performance.  \n",
    "\n",
    "#### Expected Insights  \n",
    "- Which model (Gradient Boosting or Random Forest) performs best with optimized hyperparameters?  \n",
    "- Which hyperparameter configurations lead to the best results?  \n",
    "- Are there significant improvements compared to the baseline models?  \n",
    "\n",
    "After evaluation, we select the best-performing model for final deployment."
   ]
  },
  {
   "cell_type": "code",
   "execution_count": 12,
   "metadata": {},
   "outputs": [],
   "source": [
    "from sklearn.model_selection import GridSearchCV\n",
    "from sklearn.ensemble import RandomForestClassifier, GradientBoostingClassifier\n",
    "from sklearn.metrics import classification_report\n",
    "\n",
    "# Define parameter grids\n",
    "param_grid_rf = {\n",
    "    'n_estimators': [100, 200, 300],\n",
    "    'max_depth': [None, 10, 20],\n",
    "    'min_samples_split': [2, 5, 10],\n",
    "    'min_samples_leaf': [1, 2, 4]\n",
    "}\n",
    "\n",
    "param_grid_gb = {\n",
    "    'n_estimators': [100, 200, 300],\n",
    "    'learning_rate': [0.01, 0.1, 0.2],\n",
    "    'max_depth': [3, 5, 7],\n",
    "    'min_samples_split': [2, 5, 10],\n",
    "    'min_samples_leaf': [1, 2, 4]\n",
    "}\n",
    "\n",
    "# Initialize models\n",
    "rf = RandomForestClassifier(random_state=27)\n",
    "gb = GradientBoostingClassifier(random_state=27)\n",
    "\n",
    "# Perform grid search with cross-validation\n",
    "cv = 5"
   ]
  },
  {
   "cell_type": "code",
   "execution_count": 13,
   "metadata": {},
   "outputs": [
    {
     "name": "stdout",
     "output_type": "stream",
     "text": [
      "Best Random Forest Model:\n",
      "              precision    recall  f1-score   support\n",
      "\n",
      "           0       0.75      0.30      0.43       327\n",
      "           1       0.87      0.98      0.92      1518\n",
      "\n",
      "    accuracy                           0.86      1845\n",
      "   macro avg       0.81      0.64      0.67      1845\n",
      "weighted avg       0.85      0.86      0.83      1845\n",
      "\n"
     ]
    }
   ],
   "source": [
    "grid_search_rf = GridSearchCV(rf, param_grid_rf, cv=cv, scoring='accuracy', n_jobs=-1)\n",
    "\n",
    "grid_search_rf.fit(X_train_transformed, y_train)\n",
    "\n",
    "# Get best models\n",
    "best_rf = grid_search_rf.best_estimator_\n",
    "\n",
    "# Evaluate on test data\n",
    "y_pred_rf = best_rf.predict(X_test_transformed)\n",
    "\n",
    "print(\"Best Random Forest Model:\")\n",
    "print(classification_report(y_test, y_pred_rf))"
   ]
  },
  {
   "cell_type": "markdown",
   "metadata": {},
   "source": [
    "### Evaluation of the Best Random Forest Model (After Hyperparameter Tuning)\n",
    "\n",
    "The classification report shows the performance of the optimized Random Forest model on the test data:\n",
    "\n",
    "- **Overall Accuracy**:  \n",
    "  The model achieves an accuracy of **86%**, indicating that it correctly predicts the recommendation label for 86% of the reviews.\n",
    "\n",
    "- **Class-wise Performance**:\n",
    "  - **Class 0 (Not Recommended)**:\n",
    "    - Precision: **0.75** – When the model predicts \"not recommended\", it's correct 75% of the time.\n",
    "    - Recall: **0.30** – The model identifies only 30% of all actual \"not recommended\" reviews.\n",
    "    - F1-Score: **0.43** – A low balance between precision and recall.\n",
    "  - **Class 1 (Recommended)**:\n",
    "    - Precision: **0.87**\n",
    "    - Recall: **0.98** – The model captures nearly all actual positive reviews.\n",
    "    - F1-Score: **0.92** – Strong performance on the dominant class.\n",
    "\n",
    "- **Imbalance Insight**:\n",
    "  - The model performs very well on the **majority class (1)** but struggles with the **minority class (0)**.\n",
    "  - The **macro average** (which treats both classes equally) is significantly lower than the **weighted average**, highlighting the class imbalance.\n",
    "\n",
    "**Conclusion**:  \n",
    "While the model is highly effective at identifying recommended products, its ability to detect non-recommended ones is limited. Further improvements may involve techniques like class balancing, sampling strategies, or adjusting the decision threshold.\n"
   ]
  },
  {
   "cell_type": "code",
   "execution_count": 14,
   "metadata": {},
   "outputs": [],
   "source": [
    "#grid_search_gb = GridSearchCV(gb, param_grid_gb, cv=cv, scoring='accuracy', n_jobs=-1)\n",
    "\n",
    "#grid_search_gb.fit(X_train_transformed, y_train)\n",
    "\n",
    "# Get best models\n",
    "#best_gb = grid_search_gb.best_estimator_\n",
    "\n",
    "# Evaluate on test data\n",
    "#y_pred_gb = best_gb.predict(X_test_transformed)\n",
    "\n",
    "#print(\"Best Gradient Boosting Model:\")\n",
    "#print(classification_report(y_test, y_pred_gb))"
   ]
  },
  {
   "cell_type": "markdown",
   "metadata": {},
   "source": [
    "### Model Selection Justification\n",
    "\n",
    "During experimentation, hyperparameter tuning of the **Gradient Boosting** model proved to be **computationally intensive and time-consuming**, making it impractical for the current project scope and available resources.\n",
    "\n",
    "As a result, we decided to proceed with the **Random Forest** model, which offered **competitive performance** and completed hyperparameter tuning in a **reasonable timeframe**.\n",
    "\n",
    "➡️ The Random Forest model is therefore selected for further evaluation and deployment.\n"
   ]
  },
  {
   "cell_type": "code",
   "execution_count": null,
   "metadata": {},
   "outputs": [
    {
     "name": "stdout",
     "output_type": "stream",
     "text": [
      "Test Accuracy: 0.8585\n",
      "Classification Report on Test Data:\n",
      "              precision    recall  f1-score   support\n",
      "\n",
      "           0       0.75      0.30      0.43       327\n",
      "           1       0.87      0.98      0.92      1518\n",
      "\n",
      "    accuracy                           0.86      1845\n",
      "   macro avg       0.81      0.64      0.67      1845\n",
      "weighted avg       0.85      0.86      0.83      1845\n",
      "\n"
     ]
    }
   ],
   "source": [
    "from sklearn.metrics import classification_report, accuracy_score\n",
    "\n",
    "# Predict on the test set using the best Random Forest Classifier\n",
    "y_pred = best_rf.predict(X_test_transformed)\n",
    "\n",
    "# Evaluate the predictions\n",
    "accuracy = accuracy_score(y_test, y_pred)\n",
    "report = classification_report(y_test, y_pred)\n",
    "\n",
    "# Print results\n",
    "print(f\"Test Accuracy: {accuracy:.4f}\")\n",
    "print(\"Classification Report on Test Data:\")\n",
    "print(report)"
   ]
  }
 ],
 "metadata": {
  "kernelspec": {
   "display_name": "Python 3",
   "language": "python",
   "name": "python3"
  },
  "language_info": {
   "codemirror_mode": {
    "name": "ipython",
    "version": 3
   },
   "file_extension": ".py",
   "mimetype": "text/x-python",
   "name": "python",
   "nbconvert_exporter": "python",
   "pygments_lexer": "ipython3",
   "version": "3.12.1"
  }
 },
 "nbformat": 4,
 "nbformat_minor": 2
}
